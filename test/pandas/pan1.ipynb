{
 "cells": [
  {
   "cell_type": "code",
   "execution_count": 23,
   "id": "bc6db4f1",
   "metadata": {},
   "outputs": [
    {
     "name": "stdout",
     "output_type": "stream",
     "text": [
      "First        Apple_사과\n",
      " Second    Banana_바나나\n",
      " Third      Cherry_체리\n",
      "Fourth            NaN\n",
      "dtype: object\n",
      "\n",
      "First        Apple_사과\n",
      " Second    Banana_바나나\n",
      " Third      Cherry_체리\n",
      "Fourth           <NA>\n",
      "dtype: string\n"
     ]
    }
   ],
   "source": [
    "import seaborn as sb\n",
    "import pandas as pd\n",
    "import numpy as np\n",
    "ser = pd.Series(['Apple_사과', 'Banana_바나나', 'Cherry_체리', np.nan],\n",
    "                index=['First ', ' Second', ' Third', 'Fourth'])\n",
    "\n",
    "print(ser)\n",
    "\n",
    "print()\n",
    "\n",
    "ser2 = pd.Series(['Apple_사과', 'Banana_바나나', 'Cherry_체리', np.nan],\n",
    "                index=['First ', ' Second', ' Third', 'Fourth'], dtype='string')\n",
    "\n",
    "print(ser2)\n"
   ]
  },
  {
   "cell_type": "code",
   "execution_count": 29,
   "id": "6745e87e",
   "metadata": {},
   "outputs": [
    {
     "name": "stdout",
     "output_type": "stream",
     "text": [
      "First        apple_사과\n",
      " Second    banana_바나나\n",
      " Third      cherry_체리\n",
      "Fourth            NaN\n",
      "dtype: object\n",
      "\n",
      "First        APPLE_사과\n",
      " Second    BANANA_바나나\n",
      " Third      CHERRY_체리\n",
      "Fourth            NaN\n",
      "dtype: object\n",
      "\n",
      "First       8.0\n",
      " Second    10.0\n",
      " Third      9.0\n",
      "Fourth      NaN\n",
      "dtype: float64\n"
     ]
    }
   ],
   "source": [
    "print(ser.str.lower())\n",
    "print()\n",
    "\n",
    "print(ser.str.upper())\n",
    "print()\n",
    "\n",
    "print(ser.str.len())"
   ]
  },
  {
   "cell_type": "code",
   "execution_count": 34,
   "id": "39d9c66c",
   "metadata": {},
   "outputs": [
    {
     "name": "stdout",
     "output_type": "stream",
     "text": [
      "First        [Apple, 사과]\n",
      " Second    [Banana, 바나나]\n",
      " Third      [Cherry, 체리]\n",
      "Fourth               NaN\n",
      "dtype: object\n",
      "<class 'pandas.core.series.Series'>\n",
      "\n",
      "              0    1\n",
      "First     Apple   사과\n",
      " Second  Banana  바나나\n",
      " Third   Cherry   체리\n",
      "Fourth      NaN  NaN\n",
      "<class 'pandas.core.frame.DataFrame'>\n",
      "\n",
      "First       사과\n",
      " Second    바나나\n",
      " Third      체리\n",
      "Fourth     NaN\n",
      "dtype: object\n"
     ]
    }
   ],
   "source": [
    "print(ser.str.split('_'))\n",
    "print(type(ser.str.split('_')))\n",
    "print()\n",
    "\n",
    "print(ser.str.split('_', expand=True))\n",
    "print(type(ser.str.split('_', expand=True)))\n",
    "print()\n",
    "\n",
    "print(ser.str.split('_').str.get(1))"
   ]
  },
  {
   "cell_type": "code",
   "execution_count": 38,
   "id": "4923e5a6",
   "metadata": {},
   "outputs": [
    {
     "name": "stdout",
     "output_type": "stream",
     "text": [
      "Index(['First ', ' Second', ' Third', 'Fourth'], dtype='object')\n",
      "Index(['First', 'Second', 'Third', 'Fourth'], dtype='object')\n",
      "Index(['First ', 'Second', 'Third', 'Fourth'], dtype='object')\n",
      "Index(['First', ' Second', ' Third', 'Fourth'], dtype='object')\n"
     ]
    }
   ],
   "source": [
    "idx = ser.index\n",
    "print(idx)\n",
    "\n",
    "print(idx.str.strip())\n",
    "\n",
    "print(idx.str.lstrip())\n",
    "print(idx.str.rstrip())"
   ]
  },
  {
   "cell_type": "code",
   "execution_count": 44,
   "id": "db8f7395",
   "metadata": {},
   "outputs": [
    {
     "name": "stdout",
     "output_type": "stream",
     "text": [
      "First        Apple:사과\n",
      " Second    Banana:바나나\n",
      " Third      Cherry:체리\n",
      "Fourth            NaN\n",
      "dtype: object\n",
      "\n",
      "First       Apple_\n",
      " Second    Banana_\n",
      " Third     Cherry_\n",
      "Fourth         NaN\n",
      "dtype: object\n"
     ]
    }
   ],
   "source": [
    "print(ser.str.replace('_', ':', regex=False))\n",
    "print()\n",
    "\n",
    "print(ser.str.replace('[^a-zA-z\\\\s]', \"\", regex=True))"
   ]
  },
  {
   "cell_type": "code",
   "execution_count": 47,
   "id": "19603b53",
   "metadata": {},
   "outputs": [
    {
     "name": "stdout",
     "output_type": "stream",
     "text": [
      "First        Apple_사과\n",
      " Second    Banana_바나나\n",
      " Third      Cherry_체리\n",
      "Fourth            NaN\n",
      "dtype: object\n",
      "First        A\n",
      " Second      B\n",
      " Third       C\n",
      "Fourth     NaN\n",
      "dtype: object\n",
      "\n",
      "First      Appl\n",
      " Second    Bana\n",
      " Third     Cher\n",
      "Fourth      NaN\n",
      "dtype: object\n"
     ]
    }
   ],
   "source": [
    "print(ser)\n",
    "print(ser.str[0])\n",
    "print()\n",
    "\n",
    "print(ser.str[0:4])"
   ]
  },
  {
   "cell_type": "code",
   "execution_count": 52,
   "id": "30d31954",
   "metadata": {},
   "outputs": [
    {
     "name": "stdout",
     "output_type": "stream",
     "text": [
      "First       True\n",
      " Second    False\n",
      " Third     False\n",
      "Fourth     False\n",
      "dtype: bool\n",
      "\n",
      "First       True\n",
      " Second     True\n",
      " Third     False\n",
      "Fourth       NaN\n",
      "dtype: object\n",
      "\n",
      "First      False\n",
      " Second    False\n",
      " Third     False\n",
      "Fourth       NaN\n",
      "dtype: object\n"
     ]
    }
   ],
   "source": [
    "contains_A = ser.str.contains('A', na=False)\n",
    "print(contains_A)\n",
    "print()\n",
    "\n",
    "contains_pattern = ser.str.contains(r'[A|B][a-z]+')\n",
    "print(contains_pattern)\n",
    "\n",
    "print()\n",
    "\n",
    "fullmatch_pattern = ser.str.fullmatch('r[A|B][a-z]+')\n",
    "print(fullmatch_pattern)"
   ]
  },
  {
   "cell_type": "code",
   "execution_count": null,
   "id": "4663267a",
   "metadata": {},
   "outputs": [
    {
     "name": "stdout",
     "output_type": "stream",
     "text": [
      "0      a1\n",
      "1      b2\n",
      "2      c3\n",
      "3    d4a5\n",
      "4    e6e7\n",
      "5      f8\n",
      "dtype: string\n",
      "\n",
      "    0\n",
      "0   1\n",
      "1   2\n",
      "2   3\n",
      "3  45\n",
      "4  67\n",
      "5   8\n",
      "\n",
      "    0\n",
      "0   a\n",
      "1   b\n",
      "2   c\n",
      "3  da\n",
      "4  ee\n",
      "5   f\n"
     ]
    }
   ],
   "source": [
    "ser3 = pd.Series(['a1', 'b2', 'c3', 'd4a5', 'e6e7', 'f8'], dtype='string')\n",
    "\n",
    "print(ser3)\n",
    "\n",
    "print()\n",
    "digits = ser3.str.extractall(r'(\\d)').groupby(level=0).agg(''.join)\n",
    "print(digits)\n",
    "print()\n",
    "\n",
    "letters = ser3.str.extractall(r'([a-zA-Z])').groupby(level=0).agg(''.join)\n",
    "print(letters)\n",
    "\n",
    "split_columns = ser3.str.extract(r'(?P<Letter>[a-z]+)(?P<Digit>\\d+)')"
   ]
  }
 ],
 "metadata": {
  "kernelspec": {
   "display_name": "Python 3",
   "language": "python",
   "name": "python3"
  },
  "language_info": {
   "codemirror_mode": {
    "name": "ipython",
    "version": 3
   },
   "file_extension": ".py",
   "mimetype": "text/x-python",
   "name": "python",
   "nbconvert_exporter": "python",
   "pygments_lexer": "ipython3",
   "version": "3.13.5"
  }
 },
 "nbformat": 4,
 "nbformat_minor": 5
}
