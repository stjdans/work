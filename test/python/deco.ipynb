{
 "cells": [
  {
   "cell_type": "code",
   "execution_count": 24,
   "id": "143d581d",
   "metadata": {},
   "outputs": [
    {
     "name": "stdout",
     "output_type": "stream",
     "text": [
      "소요 시간 : 0.1002957820892334\n",
      "소요 시간 : 0.1006920337677002\n"
     ]
    }
   ],
   "source": [
    "import time\n",
    "\n",
    "def make_timer(func):\n",
    "    def wrapper(*args, **kargs):\n",
    "        t1 = time.time()\n",
    "        ret_val = func(*args, **kargs)\n",
    "        t2 = time.time()\n",
    "        print('소요 시간 : {}'.format(t2 - t1))\n",
    "        return ret_val\n",
    "    return wrapper\n",
    "\n",
    "@make_timer\n",
    "def job(count):\n",
    "    n = 0\n",
    "    while n < count:\n",
    "        time.sleep(0.1)\n",
    "        n += 1\n",
    "\n",
    "def job2():\n",
    "    pass\n",
    "    \n",
    "f = make_timer(job)\n",
    "\n",
    "f(1)"
   ]
  },
  {
   "cell_type": "code",
   "execution_count": 28,
   "id": "af29582c",
   "metadata": {},
   "outputs": [
    {
     "name": "stdout",
     "output_type": "stream",
     "text": [
      "<list_reverseiterator object at 0x000002274284C280>\n",
      "[4, 3, 2, 1]\n",
      "4321"
     ]
    }
   ],
   "source": [
    "iter1 = reversed([1,2,3,4])\n",
    "print(iter1)\n",
    "\n",
    "print(list(iter1))\n",
    "\n",
    "iter1 = reversed([1,2,3,4])\n",
    "for i in iter1:\n",
    "    print(i, end='')"
   ]
  },
  {
   "cell_type": "code",
   "execution_count": 37,
   "id": "8d64c91c",
   "metadata": {},
   "outputs": [
    {
     "name": "stdout",
     "output_type": "stream",
     "text": [
      "2 4 6 8 10 "
     ]
    },
    {
     "data": {
      "text/plain": [
       "[2, 4, 6, 8, 10]"
      ]
     },
     "execution_count": 37,
     "metadata": {},
     "output_type": "execute_result"
    }
   ],
   "source": [
    "def make_evens_gen():\n",
    "    for n in range(2, 11, 2):\n",
    "        yield n\n",
    "        \n",
    "make_evens_gen()\n",
    "my_gen = make_evens_gen()\n",
    "\n",
    "next(my_gen)\n",
    "next(my_gen)\n",
    "next(my_gen)\n",
    "next(my_gen)\n",
    "next(my_gen)\n",
    "\n",
    "my_gen = make_evens_gen()\n",
    "next(my_gen)\n",
    "\n",
    "for i in make_evens_gen():\n",
    "    print(i, end=' ')\n",
    "\n",
    "\n",
    "my_gen = make_evens_gen()\n",
    "a_list = list(my_gen)\n",
    "a_list"
   ]
  },
  {
   "cell_type": "code",
   "execution_count": 41,
   "id": "90ae0a73",
   "metadata": {},
   "outputs": [
    {
     "name": "stdout",
     "output_type": "stream",
     "text": [
      "1 2 3 5 8 13 "
     ]
    }
   ],
   "source": [
    "def make_fibo_gen(n):\n",
    "    a, b = 1, 1\n",
    "    while a <= n:\n",
    "        yield a\n",
    "        a, b = a + b, a\n",
    "\n",
    "\n",
    "for i in make_fibo_gen(20):\n",
    "    print(i, end=' ')\n",
    "        \n",
    "\n",
    "\n",
    "        "
   ]
  },
  {
   "cell_type": "code",
   "execution_count": 43,
   "id": "048ce763",
   "metadata": {},
   "outputs": [
    {
     "name": "stdout",
     "output_type": "stream",
     "text": [
      "['C:\\\\Users\\\\PC\\\\AppData\\\\Roaming\\\\Python\\\\Python313\\\\site-packages\\\\ipykernel_launcher.py', '--f=c:\\\\Users\\\\PC\\\\AppData\\\\Roaming\\\\jupyter\\\\runtime\\\\kernel-v36c9c67dd1c5278bf2326f26f2726f7180f9136c4.json']\n",
      "C:\\Users\\PC\\AppData\\Roaming\\Python\\Python313\\site-packages\\ipykernel_launcher.py\n",
      "--f=c:\\Users\\PC\\AppData\\Roaming\\jupyter\\runtime\\kernel-v36c9c67dd1c5278bf2326f26f2726f7180f9136c4.json\n"
     ]
    }
   ],
   "source": [
    "import sys\n",
    "\n",
    "print(sys.argv)\n",
    "for i in sys.argv:\n",
    "    print(i)"
   ]
  }
 ],
 "metadata": {
  "kernelspec": {
   "display_name": "Python 3",
   "language": "python",
   "name": "python3"
  },
  "language_info": {
   "codemirror_mode": {
    "name": "ipython",
    "version": 3
   },
   "file_extension": ".py",
   "mimetype": "text/x-python",
   "name": "python",
   "nbconvert_exporter": "python",
   "pygments_lexer": "ipython3",
   "version": "3.13.5"
  }
 },
 "nbformat": 4,
 "nbformat_minor": 5
}
