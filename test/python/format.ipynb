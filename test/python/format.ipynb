{
 "cells": [
  {
   "cell_type": "code",
   "execution_count": 22,
   "id": "02b39c04",
   "metadata": {},
   "outputs": [
    {
     "data": {
      "text/plain": [
       "'   3.142'"
      ]
     },
     "execution_count": 22,
     "metadata": {},
     "output_type": "execute_result"
    }
   ],
   "source": [
    "'Here is a number: %*s' % (30, 'VI')\n",
    "\n",
    "'Item 1: %*s Item: 2: %*s' % (8, 'Bob', 12, 'Suzanne')\n",
    "\n",
    "n = 20\n",
    "'Item 1: %*s Item: 2: %*s' % (n, 'Bob', n, 'Suzanne')\n",
    "\n",
    "n = 9\n",
    "'Item 1: %*r Item: 2: %*r' % (n, 'Bob', n, 'Suzanne')\n",
    "\n",
    "\n",
    "'%*.*f' % (8, 3, 3.141592)"
   ]
  },
  {
   "cell_type": "code",
   "execution_count": 36,
   "id": "5156a198",
   "metadata": {},
   "outputs": [
    {
     "name": "stdout",
     "output_type": "stream",
     "text": [
      "1000000000000\n"
     ]
    },
    {
     "data": {
      "text/plain": [
       "'bobby     '"
      ]
     },
     "execution_count": 36,
     "metadata": {},
     "output_type": "execute_result"
    }
   ],
   "source": [
    "big = 10 ** 12\n",
    "print(big)\n",
    "\n",
    "format(big)\n",
    "\n",
    "\n",
    "format(15, 'x')\n",
    "\n",
    "format('bobby', '10')"
   ]
  },
  {
   "cell_type": "code",
   "execution_count": 43,
   "id": "9097f0d7",
   "metadata": {},
   "outputs": [
    {
     "name": "stdout",
     "output_type": "stream",
     "text": [
      "[100, 200, 300]\n"
     ]
    },
    {
     "data": {
      "text/plain": [
       "'200, 300'"
      ]
     },
     "execution_count": 43,
     "metadata": {},
     "output_type": "execute_result"
    }
   ],
   "source": [
    "a_list = list(range(100, 301, 100))\n",
    "print(a_list)\n",
    "\n",
    "'{0[1]:}, {0[2]:}'.format(a_list)\n",
    "'{a[1]:}, {a[2]:}'.format(a=a_list)"
   ]
  },
  {
   "cell_type": "code",
   "execution_count": 48,
   "id": "6c157df9",
   "metadata": {},
   "outputs": [
    {
     "name": "stdout",
     "output_type": "stream",
     "text": [
      "10\n",
      "10\n",
      "10\n",
      "Here is a \n",
      " newline!\n",
      "'Here is a \\n newline!'\n",
      "Here is a \n",
      " newline!\n",
      "'Here is a \\n newline!'\n"
     ]
    }
   ],
   "source": [
    "print(10)\n",
    "print('10')\n",
    "print(repr(10))\n",
    "\n",
    "test = 'Here is a \\n newline!'\n",
    "\n",
    "print(test)\n",
    "print(repr(test))\n",
    "\n",
    "print('{}'.format(test))\n",
    "print('{!r}'.format(test))"
   ]
  },
  {
   "cell_type": "code",
   "execution_count": 56,
   "id": "e099d8d1",
   "metadata": {},
   "outputs": [
    {
     "name": "stdout",
     "output_type": "stream",
     "text": [
      "Tom    \n",
      "    Tom\n",
      "Tom    \n",
      "  Tom  \n",
      " 'Tom' \n",
      "-   100\n",
      "0xd\n"
     ]
    }
   ],
   "source": [
    "print('{:7}'.format('Tom'))\n",
    "print('{:>7}'.format('Tom'))\n",
    "print('{:<7}'.format('Tom'))\n",
    "print('{:^7}'.format('Tom'))\n",
    "print('{!r:^7}'.format('Tom'))\n",
    "print('{:=7}'.format(-100))\n",
    "\n",
    "print(hex(13))"
   ]
  },
  {
   "cell_type": "code",
   "execution_count": 71,
   "id": "c94337dc",
   "metadata": {},
   "outputs": [
    {
     "name": "stdout",
     "output_type": "stream",
     "text": [
      "0b10010110\n",
      "0o226\n",
      "0x96\n",
      "d\n"
     ]
    }
   ],
   "source": [
    "print('{:#b}'.format(150))\n",
    "print('{:#o}'.format(150))\n",
    "print('{:#x}'.format(150))\n",
    "print('{:c}'.format(100))"
   ]
  }
 ],
 "metadata": {
  "kernelspec": {
   "display_name": "Python 3",
   "language": "python",
   "name": "python3"
  },
  "language_info": {
   "codemirror_mode": {
    "name": "ipython",
    "version": 3
   },
   "file_extension": ".py",
   "mimetype": "text/x-python",
   "name": "python",
   "nbconvert_exporter": "python",
   "pygments_lexer": "ipython3",
   "version": "3.13.5"
  }
 },
 "nbformat": 4,
 "nbformat_minor": 5
}
