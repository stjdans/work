{
 "cells": [
  {
   "cell_type": "code",
   "execution_count": null,
   "id": "c6609901",
   "metadata": {},
   "outputs": [
    {
     "name": "stdout",
     "output_type": "stream",
     "text": [
      "[2, 3, 5, 7, 11, 13, 17, 19, 23, 29, 31, 37, 41, 43, 47]\n"
     ]
    }
   ],
   "source": [
    "\n",
    "def sieve(n):\n",
    "    b_list = [True] * (n+1)\n",
    "    for i in range(2, n+1):\n",
    "        if b_list[i]:\n",
    "            for j in range(i*i, n+1, i):\n",
    "                b_list[j] = False\n",
    "    primes = [i for i in range(2, n+1) if b_list[i]]\n",
    "    return primes\n",
    "\n",
    "print(sieve(50))\n",
    "\n",
    "\n",
    "\n"
   ]
  },
  {
   "cell_type": "code",
   "execution_count": 14,
   "id": "bb58e277",
   "metadata": {},
   "outputs": [
    {
     "name": "stdout",
     "output_type": "stream",
     "text": [
      "[ True  True  True  True  True  True  True  True  True  True  True  True\n",
      "  True  True  True  True  True  True  True  True  True  True  True  True\n",
      "  True  True  True  True  True  True  True  True  True  True  True  True\n",
      "  True  True  True  True  True  True  True  True  True  True  True  True\n",
      "  True  True  True]\n",
      "\n",
      "[False False  True  True  True  True  True  True  True  True  True  True\n",
      "  True  True  True  True  True  True  True  True  True  True  True  True\n",
      "  True  True  True  True  True  True  True  True  True  True  True  True\n",
      "  True  True  True  True  True  True  True  True  True  True  True  True\n",
      "  True  True  True]\n",
      "[ 2  3  5  7 11 13 17 19 23 29 31 37 41 43 47]\n"
     ]
    }
   ],
   "source": [
    "import numpy\n",
    "\n",
    "def np_sieve(n):\n",
    "    b = numpy.ones(n+1, dtype=numpy.bool)\n",
    "    print(b)\n",
    "    b[0:2] = False\n",
    "    print()\n",
    "    \n",
    "    print(b)\n",
    "    for i in range(2, n+1):\n",
    "        if b[i]:\n",
    "            b[i*i::i] = False\n",
    "    \n",
    "    return numpy.arange(n+1)[b]\n",
    "\n",
    "print(np_sieve(50))"
   ]
  },
  {
   "cell_type": "code",
   "execution_count": 20,
   "id": "c5d7f338",
   "metadata": {},
   "outputs": [
    {
     "name": "stdout",
     "output_type": "stream",
     "text": [
      "[0.16035811 0.77672378 0.90566297 0.14198787 0.09620322 0.32871128\n",
      " 0.00817314 0.14005886 0.00996058 0.90175185]\n",
      "mean :  0.5006571855610744\n",
      "sum :  50065.718556107444\n",
      "median :  0.5002938127428569\n",
      "std :  0.28826743413862554\n",
      "\n",
      "[0.03393506 0.11369481 0.0499968  ... 0.11647711 0.01395293 0.09634916]\n",
      "0.28826743413862554\n",
      "\n",
      "0.28826743413862554\n"
     ]
    }
   ],
   "source": [
    "import numpy as np\n",
    "import numpy.random as ran\n",
    "\n",
    "a = ran.rand(10)\n",
    "\n",
    "print(a)\n",
    "\n",
    "a = ran.random(100000)\n",
    "print('mean : ', np.mean(a))\n",
    "print('sum : ', np.sum(a))\n",
    "print('median : ', np.median(a))\n",
    "print('std : ', np.std(a))\n",
    "\n",
    "a2 = (a - np.mean(a)) ** 2\n",
    "print()\n",
    "print(a2)\n",
    "\n",
    "result = (np.mean(a2)) ** 0.5\n",
    "print(result)\n",
    "\n",
    "print()\n",
    "print(np.std(a))\n",
    "\n"
   ]
  },
  {
   "cell_type": "code",
   "execution_count": 22,
   "id": "7a982d25",
   "metadata": {},
   "outputs": [
    {
     "name": "stdout",
     "output_type": "stream",
     "text": [
      "[[19  1 17  3]\n",
      " [ 8  7 13 18]\n",
      " [ 5 18  7 16]]\n",
      "11.0\n",
      "132\n",
      "6.244997998398398\n"
     ]
    }
   ],
   "source": [
    "import numpy as np\n",
    "import numpy.random as ran\n",
    "\n",
    "a = ran.randint(1, 20, (3, 4))\n",
    "print(a)\n",
    "\n",
    "print(np.mean(a))\n",
    "print(np.sum(a))\n",
    "print(np.std(a))"
   ]
  },
  {
   "cell_type": "code",
   "execution_count": 25,
   "id": "d5912999",
   "metadata": {},
   "outputs": [
    {
     "name": "stdout",
     "output_type": "stream",
     "text": [
      "[[1 2 3]\n",
      " [4 5 6]\n",
      " [7 8 9]]\n",
      "\n",
      "[12 15 18]\n",
      "[ 6 15 24]\n"
     ]
    }
   ],
   "source": [
    "import numpy\n",
    "\n",
    "a = numpy.arange(1, 10).reshape(3, 3)\n",
    "\n",
    "print(a)\n",
    "\n",
    "print()\n",
    "\n",
    "print(numpy.sum(a, axis=0))\n",
    "print(numpy.sum(a, axis=1))\n"
   ]
  },
  {
   "cell_type": "code",
   "execution_count": 37,
   "id": "62bd3036",
   "metadata": {},
   "outputs": [
    {
     "name": "stdout",
     "output_type": "stream",
     "text": [
      "[[0 1 2 3 4]\n",
      " [0 1 2 3 4]\n",
      " [0 1 2 3 4]\n",
      " [0 1 2 3 4]]\n",
      "[ 0  4  8 12 16]\n",
      "[10 10 10 10]\n",
      "\n",
      "[[ 0  1  2  3  4 10]\n",
      " [ 0  1  2  3  4 10]\n",
      " [ 0  1  2  3  4 10]\n",
      " [ 0  1  2  3  4 10]]\n",
      "\n",
      "[[ 0  1  2  3  4]\n",
      " [ 0  1  2  3  4]\n",
      " [ 0  1  2  3  4]\n",
      " [ 0  1  2  3  4]\n",
      " [ 0  4  8 12 16]]\n"
     ]
    }
   ],
   "source": [
    "import numpy\n",
    "\n",
    "a = np.fromfunction(lambda r, c: c, (4,5), dtype=numpy.int32)\n",
    "b_row = numpy.sum(a, axis=1)\n",
    "b_col = numpy.sum(a, axis=0)\n",
    "\n",
    "print(a)\n",
    "print(b_col)\n",
    "print(b_row)\n",
    "\n",
    "c = numpy.c_[a, b_row]\n",
    "print()\n",
    "print(c)\n",
    "\n",
    "c2 = numpy.r_[a, [b_col]]\n",
    "print()\n",
    "\n",
    "print(c2)\n",
    "\n"
   ]
  },
  {
   "cell_type": "code",
   "execution_count": 40,
   "id": "d02cef20",
   "metadata": {},
   "outputs": [
    {
     "name": "stdout",
     "output_type": "stream",
     "text": [
      "[[ 0  1  2  3  4]\n",
      " [ 5  6  7  8  9]\n",
      " [10 11 12 13 14]]\n",
      "\n",
      "[[  0   1   2   3   4  10]\n",
      " [  5   6   7   8   9  35]\n",
      " [ 10  11  12  13  14  60]\n",
      " [ 15  18  21  24  27 105]]\n"
     ]
    }
   ],
   "source": [
    "import numpy\n",
    "\n",
    "def spreadsheet(A):\n",
    "    AC = numpy.sum(A, axis=1)\n",
    "    A2 = np.c_[A,AC]\n",
    "    AR = numpy.sum(A2, axis=0)\n",
    "    return numpy.r_[A2, [AR]]\n",
    "\n",
    "arr = np.arange(15).reshape(3, 5)\n",
    "print(arr)\n",
    "print()\n",
    "print(spreadsheet(arr))\n",
    "    "
   ]
  }
 ],
 "metadata": {
  "kernelspec": {
   "display_name": "Python 3",
   "language": "python",
   "name": "python3"
  },
  "language_info": {
   "codemirror_mode": {
    "name": "ipython",
    "version": 3
   },
   "file_extension": ".py",
   "mimetype": "text/x-python",
   "name": "python",
   "nbconvert_exporter": "python",
   "pygments_lexer": "ipython3",
   "version": "3.13.5"
  }
 },
 "nbformat": 4,
 "nbformat_minor": 5
}
