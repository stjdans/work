{
 "cells": [
  {
   "cell_type": "code",
   "execution_count": 3,
   "id": "a6f39480",
   "metadata": {},
   "outputs": [
    {
     "name": "stdout",
     "output_type": "stream",
     "text": [
      "c:\\Users\\PC\\Desktop\\work\\test\n",
      "Help on built-in function chdir in module nt:\n",
      "\n",
      "chdir(path)\n",
      "    Change the current working directory to the specified path.\n",
      "\n",
      "    path may always be specified as a string.\n",
      "    On some platforms, path may also be specified as an open file descriptor.\n",
      "      If this functionality is unavailable, using it raises an exception.\n",
      "\n"
     ]
    },
    {
     "data": {
      "text/plain": [
       "['deco.ipynb',\n",
       " 'file.ipynb',\n",
       " 'format.ipynb',\n",
       " 'numpy1.ipynb',\n",
       " 'numpy2.ipynb',\n",
       " 'numpy3.ipynb',\n",
       " 'test.ipynb']"
      ]
     },
     "execution_count": 3,
     "metadata": {},
     "output_type": "execute_result"
    }
   ],
   "source": [
    "import os\n",
    "\n",
    "print(os.getcwd())\n",
    "help(os.chdir)\n",
    "\n",
    "os.listdir()"
   ]
  },
  {
   "cell_type": "code",
   "execution_count": 4,
   "id": "873c64a4",
   "metadata": {},
   "outputs": [
    {
     "name": "stdout",
     "output_type": "stream",
     "text": [
      "hello\n"
     ]
    }
   ],
   "source": [
    "with open('file.txt', 'w') as f:\n",
    "    f.write('h')\n",
    "    f.write('e')\n",
    "    f.write('l')\n",
    "    f.write('l')\n",
    "    f.write('o')\n",
    "\n",
    "with open('file.txt', 'r') as f:\n",
    "    print(f.read())"
   ]
  },
  {
   "cell_type": "code",
   "execution_count": 7,
   "id": "c662c485",
   "metadata": {},
   "outputs": [
    {
     "name": "stdout",
     "output_type": "stream",
     "text": [
      "(125,)\n",
      "(1.0, 2.0, 3.140000104904175)\n"
     ]
    },
    {
     "data": {
      "text/plain": [
       "(1.0, 2.0, 3.140000104904175)"
      ]
     },
     "execution_count": 7,
     "metadata": {},
     "output_type": "execute_result"
    }
   ],
   "source": [
    "import struct\n",
    "\n",
    "def write_num(fname, n):\n",
    "    with open(fname, 'wb') as f:\n",
    "        bss = struct.pack('h', n)\n",
    "        f.write(bss)\n",
    "\n",
    "def read_num(fname):\n",
    "    with open(fname, 'rb') as f:\n",
    "        bss = f.read(struct.calcsize('h'))\n",
    "        t = struct.unpack('h', bss)\n",
    "        print(t)\n",
    "        return t[0]\n",
    "    \n",
    "def write_float(fname, x,y,z):\n",
    "    with open(fname, 'wb') as f:\n",
    "        bss = struct.pack('fff', x, y, z)\n",
    "        f.write(bss)\n",
    "\n",
    "def read_float(fname):\n",
    "    with open(fname, 'rb') as f:\n",
    "        bss = f.read(struct.calcsize('fff'))\n",
    "        t = struct.unpack('fff', bss)\n",
    "        print(t)\n",
    "        return t[0], t[1], t[2]\n",
    "\n",
    "\n",
    "write_num('silly.dat', 125)\n",
    "read_num('silly.dat')\n",
    "\n",
    "\n",
    "write_float('silly.dat', 1, 2, 3.14)\n",
    "read_float('silly.dat')"
   ]
  },
  {
   "cell_type": "code",
   "execution_count": null,
   "id": "248721ce",
   "metadata": {},
   "outputs": [
    {
     "name": "stdout",
     "output_type": "stream",
     "text": [
      "I'm Henry the\n"
     ]
    }
   ],
   "source": [
    "import struct\n",
    "\n",
    "def write_fixed_str(fname, n, s):\n",
    "    with open(fname, 'wb') as f:\n",
    "        bss = struct.pack(str(n) + 's', s.encode('utf-8'))\n",
    "        f.write(bss)\n",
    "\n",
    "def read_fixed_str(fname, n):\n",
    "    with open(fname, 'rb') as f:\n",
    "        bss = f.read(n)\n",
    "        return bss.decode('utf-8')\n",
    "        \n",
    "write_fixed_str('king.d', 13, \"I'm Henry the WIII I am!\")\n",
    "print(read_fixed_str('king.d', 13))"
   ]
  },
  {
   "cell_type": "code",
   "execution_count": 12,
   "id": "0fc1df84",
   "metadata": {},
   "outputs": [
    {
     "name": "stdout",
     "output_type": "stream",
     "text": [
      "I'm Henry the VIII I am!\n"
     ]
    }
   ],
   "source": [
    "import struct\n",
    "\n",
    "def write_var_str(fname, s:str):\n",
    "    with open(fname, 'wb') as f:\n",
    "        n = len(s)\n",
    "        fmt = 'h' + str(n) + 's'\n",
    "        bss = struct.pack(fmt, n, s.encode('utf-8'))\n",
    "        f.write(bss)\n",
    "        \n",
    "def read_var_str(fname):\n",
    "    with open(fname, 'rb') as f:\n",
    "        bss = f.read(struct.calcsize('h'))\n",
    "        n = struct.unpack('h', bss)[0]\n",
    "        return f.read(n).decode('utf-8')\n",
    "    \n",
    "    \n",
    "write_var_str('silly.dat', \"I'm Henry the VIII I am!\")\n",
    "print(read_var_str('silly.dat'))"
   ]
  },
  {
   "cell_type": "code",
   "execution_count": 17,
   "id": "8952bf5b",
   "metadata": {},
   "outputs": [
    {
     "data": {
      "text/plain": [
       "('Cleo', 'Main St.', 5.0)"
      ]
     },
     "execution_count": 17,
     "metadata": {},
     "output_type": "execute_result"
    }
   ],
   "source": [
    "import struct as st\n",
    "\n",
    "def write_rec(fname, name:str, addr:str, rating:float):\n",
    "    with open(fname, 'wb') as f:\n",
    "        b_name = name.encode('utf-8')\n",
    "        b_addr = addr.encode('utf-8')\n",
    "        bss = st.pack('9s10sf', b_name, b_addr, rating)\n",
    "        f.write(bss)\n",
    "        \n",
    "def read_rec(fname):\n",
    "    with open(fname, 'rb') as f:\n",
    "        bss = f.read(st.calcsize('9s10sf'))\n",
    "        b_name, b_addr, rating = st.unpack('9s10sf', bss)\n",
    "        name = b_name.decode('utf-8').rstrip('\\x00')\n",
    "        addr = b_addr.decode('utf-8').rstrip('\\x00')\n",
    "        return name, addr, rating\n",
    "        \n",
    "write_rec('goofy.dat', 'Cleo', 'Main St.', 5.0)\n",
    "read_rec('goofy.dat')"
   ]
  },
  {
   "cell_type": "code",
   "execution_count": 24,
   "id": "293e5ad3",
   "metadata": {},
   "outputs": [
    {
     "name": "stdout",
     "output_type": "stream",
     "text": [
      "b'\\x01\\x00\\x02\\x00d\\x00\\x00\\x00'\n"
     ]
    }
   ],
   "source": [
    "import struct as st\n",
    "\n",
    "with open('junk.dat', 'wb') as f:\n",
    "    bstr = st.pack('hhl', 1, 2, 100)\n",
    "    f.write(bstr)\n",
    "    \n",
    "with open('junk.dat', 'rb') as f:\n",
    "    bstr = f.read(st.calcsize('hhl'))\n",
    "    print(bstr)"
   ]
  },
  {
   "cell_type": "code",
   "execution_count": 26,
   "id": "840ad6cb",
   "metadata": {},
   "outputs": [
    {
     "name": "stdout",
     "output_type": "stream",
     "text": [
      "<class 'list'>  :  [1, 2, 3]\n",
      "<class 'str'>  :  hello\n",
      "<class 'float'>  :  3.14\n"
     ]
    }
   ],
   "source": [
    "import pickle\n",
    "\n",
    "with open('goo.dat', 'wb') as f:\n",
    "    pickle.dump([1,2,3], f)\n",
    "    pickle.dump('hello', f)\n",
    "    pickle.dump(3.14, f)\n",
    "    \n",
    "with open('goo.dat', 'rb') as f:\n",
    "    a = pickle.load(f)\n",
    "    b = pickle.load(f)\n",
    "    c = pickle.load(f)\n",
    "    \n",
    "    print(type(a), ' : ', a)\n",
    "    print(type(b), ' : ', b)\n",
    "    print(type(c), ' : ', c)"
   ]
  }
 ],
 "metadata": {
  "kernelspec": {
   "display_name": "Python 3",
   "language": "python",
   "name": "python3"
  },
  "language_info": {
   "codemirror_mode": {
    "name": "ipython",
    "version": 3
   },
   "file_extension": ".py",
   "mimetype": "text/x-python",
   "name": "python",
   "nbconvert_exporter": "python",
   "pygments_lexer": "ipython3",
   "version": "3.13.5"
  }
 },
 "nbformat": 4,
 "nbformat_minor": 5
}
